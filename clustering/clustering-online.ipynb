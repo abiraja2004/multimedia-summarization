{
 "cells": [
  {
   "cell_type": "markdown",
   "metadata": {},
   "source": [
    "# Notación\n",
    "\n",
    "- $n$ documentos: vectores de dimensión $D$, numerados del $0$ al $n-1$\n",
    "- matriz de similitud de documentos $S$ de dimensión $n*n$\n",
    "- matriz de clusters $C$ de dimensión $1*(n+1)$ (1 fila, $n+1$ columnas)\n",
    "    - $C_{i,j} = 1$ ssi documento $j$ pertenece a cluster $i$\n",
    "    - Inicialmente un solo cluster\n",
    "- Umbral de similitud $\\tau > 0$\n",
    "- $\\text{ones}_{a, b}$ es una matriz con 1's de dimensión $a*b$\n",
    "- $A_{\\cdot, j}$ es la columna $j$-ésima de $A$\n",
    "- $A_{i, \\cdot}$ es la fila $i$-ésima de $A$\n",
    "- $A_{i,j}$ es el valor en la posición $i,j$ de $A$\n",
    "\n",
    "Inicialmente:\n",
    "\n",
    "- $S_{i,i} \\leftarrow \\tau$, para $i = 0,..,n-1$ (la diagonal de $S$ tiene el umbral de similitud)\n",
    "- Agregar una nueva fila y columna a $S$ con $\\tau$ como valor: $S_{n,\\cdot} \\leftarrow \\tau$, y $S_{\\cdot,n} \\leftarrow \\tau$\n",
    "- $C_{0,0} \\leftarrow 1$ (documento 0 está en el cluster 0)\n",
    "- $C_{0, n} \\leftarrow 1$ (documento $n$-ésimo está en el cluster 0)\n",
    "\n",
    "\n",
    "# Online clustering\n",
    "\n",
    "- $i \\leftarrow 0$\n",
    "- para $j = 1,..,n-1$\n",
    "    - Agregar una fila a $C$ (fila $i+1$)\n",
    "    - $C_{(i+1), n} \\leftarrow 1$\n",
    "    - $T \\leftarrow \\frac{1}{C \\cdot \\text{ones}_{(i+1), 1}}$ (elemento $k$ del vector $T$ tiene a (tamaño del cluster $k$)$^{-1}$)\n",
    "    - computar $v \\leftarrow C \\cdot S_{\\cdot, j} \\cdot T$\n",
    "    - eliminar elementos de $v$ cuyo valor sea $\\leq \\tau$\n",
    "    - $i^* \\leftarrow \\text{argmax}(v)$\n",
    "    - $C_{i^*, j} \\leftarrow 1$\n",
    "    - $i \\leftarrow i + 1$\n",
    "    \n",
    "Clusters están dados por $C$, sin contar la última columna $n$"
   ]
  },
  {
   "cell_type": "markdown",
   "metadata": {},
   "source": [
    "# Experimento\n",
    "## Preparar datos"
   ]
  },
  {
   "cell_type": "code",
   "execution_count": 1,
   "metadata": {
    "collapsed": true
   },
   "outputs": [],
   "source": [
    "from theano import tensor\n",
    "from theano import function\n",
    "import numpy as np\n",
    "\n",
    "from tqdm import tqdm, trange\n",
    "\n",
    "tau = .7"
   ]
  },
  {
   "cell_type": "markdown",
   "metadata": {},
   "source": [
    "Load vectors and remove rows with NAs"
   ]
  },
  {
   "cell_type": "code",
   "execution_count": 2,
   "metadata": {},
   "outputs": [
    {
     "data": {
      "text/plain": [
       "(10746, 100)"
      ]
     },
     "execution_count": 2,
     "metadata": {},
     "output_type": "execute_result"
    }
   ],
   "source": [
    "documents = np.load('data/fasttext_vectors_event_hurricane_irma.npy')\n",
    "documents.shape"
   ]
  },
  {
   "cell_type": "code",
   "execution_count": 3,
   "metadata": {},
   "outputs": [
    {
     "data": {
      "text/plain": [
       "(10731, 100)"
      ]
     },
     "execution_count": 3,
     "metadata": {},
     "output_type": "execute_result"
    }
   ],
   "source": [
    "# all indices\n",
    "idx = range(len(documents))\n",
    "# indices de doc_vectors con NA (son como 15 no más :P)\n",
    "remove_idx = np.where(np.isnan(documents).any(axis=1))[0]\n",
    "\n",
    "docs = np.array([documents[i] for i in idx if i not in remove_idx])\n",
    "n = docs.shape[0]\n",
    "docs.shape"
   ]
  },
  {
   "cell_type": "markdown",
   "metadata": {},
   "source": [
    "Compute similarity matrix and assign diagonal and new row/column"
   ]
  },
  {
   "cell_type": "code",
   "execution_count": 4,
   "metadata": {},
   "outputs": [
    {
     "data": {
      "text/plain": [
       "(10731, 10731)"
      ]
     },
     "execution_count": 4,
     "metadata": {},
     "output_type": "execute_result"
    }
   ],
   "source": [
    "d = docs @ docs.T\n",
    "norm = (docs * docs).sum(1, keepdims=True) ** .5\n",
    "S = d / norm / norm.T\n",
    "S.shape"
   ]
  },
  {
   "cell_type": "code",
   "execution_count": 5,
   "metadata": {
    "collapsed": true
   },
   "outputs": [],
   "source": [
    "assert np.allclose(S.diagonal(), 1)"
   ]
  },
  {
   "cell_type": "code",
   "execution_count": 6,
   "metadata": {
    "collapsed": true
   },
   "outputs": [],
   "source": [
    "np.fill_diagonal(S, tau)\n",
    "assert np.allclose(S.diagonal(), tau)"
   ]
  },
  {
   "cell_type": "markdown",
   "metadata": {},
   "source": [
    "## Online clustering"
   ]
  },
  {
   "cell_type": "code",
   "execution_count": 7,
   "metadata": {},
   "outputs": [
    {
     "name": "stderr",
     "output_type": "stream",
     "text": [
      "100%|██████████| 10730/10730 [08:18<00:00, 21.54it/s]\n"
     ]
    }
   ],
   "source": [
    "ONE = np.ones((n, 1))\n",
    "i = 0\n",
    "\n",
    "C = np.zeros((n, n))\n",
    "C[0, 0] = 1\n",
    "#C[0, n] = 1\n",
    "\n",
    "\n",
    "for j in trange(1, n):\n",
    "    C[i + 1, j] = 1\n",
    "\n",
    "    T = 1 / C.dot(ONE)\n",
    "    T[T > 1] = 0\n",
    "\n",
    "    v = C @ S[:, j]\n",
    "\n",
    "    v = v * T.T\n",
    "\n",
    "    v[v < tau] = 0\n",
    "\n",
    "    k = np.argmax(v)\n",
    "\n",
    "    C[i + 1, j] = 0\n",
    "    C[k, j] = 1\n",
    "    i += 1"
   ]
  },
  {
   "cell_type": "code",
   "execution_count": 8,
   "metadata": {},
   "outputs": [
    {
     "data": {
      "text/plain": [
       "(71, 10731)"
      ]
     },
     "execution_count": 8,
     "metadata": {},
     "output_type": "execute_result"
    }
   ],
   "source": [
    "C1 = C[~np.all(C == 0, axis=1)]\n",
    "C1.shape"
   ]
  },
  {
   "cell_type": "code",
   "execution_count": 9,
   "metadata": {},
   "outputs": [
    {
     "data": {
      "text/plain": [
       "array([[ 1.,  1.,  1., ...,  1.,  0.,  0.],\n",
       "       [ 0.,  0.,  0., ...,  0.,  0.,  0.],\n",
       "       [ 0.,  0.,  0., ...,  0.,  0.,  0.],\n",
       "       ..., \n",
       "       [ 0.,  0.,  0., ...,  0.,  0.,  0.],\n",
       "       [ 0.,  0.,  0., ...,  0.,  0.,  0.],\n",
       "       [ 0.,  0.,  0., ...,  0.,  0.,  0.]])"
      ]
     },
     "execution_count": 9,
     "metadata": {},
     "output_type": "execute_result"
    }
   ],
   "source": [
    "C1"
   ]
  },
  {
   "cell_type": "markdown",
   "metadata": {},
   "source": [
    "## Explore clusters"
   ]
  },
  {
   "cell_type": "code",
   "execution_count": 33,
   "metadata": {},
   "outputs": [],
   "source": [
    "from db.engines import engine_of215 as engine\n",
    "from db.models_new import *\n",
    "from db import events\n",
    "import logging\n",
    "\n",
    "logger = logging.getLogger(__name__)\n",
    "logging.basicConfig(format='%(asctime)s | %(name)s | %(levelname)s : %(message)s', level=logging.INFO)\n",
    "# tokenizer = Tokenizer()\n",
    "from sqlalchemy.orm import sessionmaker\n",
    "\n",
    "# server, engine = connect_from_rafike(username='mquezada', password='100486')\n",
    "Session = sessionmaker(engine, autocommit=True)\n",
    "session = Session()"
   ]
  },
  {
   "cell_type": "code",
   "execution_count": 34,
   "metadata": {
    "collapsed": true
   },
   "outputs": [],
   "source": [
    "event_name = 'hurricane_irma'"
   ]
  },
  {
   "cell_type": "code",
   "execution_count": 42,
   "metadata": {},
   "outputs": [],
   "source": [
    "documents = get_documents_from_event(event_name, session)\n",
    "documents = np.array([documents[i] for i in idx if i not in remove_idx])"
   ]
  },
  {
   "cell_type": "code",
   "execution_count": 38,
   "metadata": {},
   "outputs": [
    {
     "name": "stdout",
     "output_type": "stream",
     "text": [
      "Cluster sizes (first 20)\n",
      "\n",
      "4281.0\n",
      "3021.0\n",
      "2886.0\n",
      "116.0\n",
      "72.0\n",
      "54.0\n",
      "51.0\n",
      "39.0\n",
      "27.0\n",
      "25.0\n",
      "19.0\n",
      "18.0\n",
      "18.0\n",
      "5.0\n",
      "5.0\n",
      "5.0\n",
      "4.0\n",
      "4.0\n",
      "3.0\n",
      "3.0\n"
     ]
    }
   ],
   "source": [
    "print(\"Cluster sizes (first 20)\\n\")\n",
    "\n",
    "for c in sorted(C1, key=lambda x: sum(x), reverse=True)[:20]:\n",
    "    print(sum(c))"
   ]
  },
  {
   "cell_type": "code",
   "execution_count": 52,
   "metadata": {},
   "outputs": [
    {
     "name": "stdout",
     "output_type": "stream",
     "text": [
      "906266219304685568 ***THIS IS AS REAL AS IT GETS*** ***NOWHERE IN THE FLORIDA KEYS WILL BE SAFE*** ***YOU STILL HAVE TIME TO EVACUAT… https://t.co/5AnaYguVaG\n",
      "906266219304685568 ***THIS IS AS REAL AS IT GETS*** ***NOWHERE IN THE FLORIDA KEYS WILL BE SAFE*** ***YOU STILL HAVE TIME TO EVACUAT… https://t.co/5AnaYguVaG\n",
      "\n",
      "\n",
      "906109913423806464 California Guardsmen sent to rescue mission in Florida as Hurricane Irma looms https://t.co/b3hGkJiGNo https://t.co/zqS2pXf68x\n",
      "906109913423806464 California Guardsmen sent to rescue mission in Florida as Hurricane Irma looms https://t.co/b3hGkJiGNo https://t.co/zqS2pXf68x\n",
      "\n",
      "\n",
      "906266219304685568 ***THIS IS AS REAL AS IT GETS*** ***NOWHERE IN THE FLORIDA KEYS WILL BE SAFE*** ***YOU STILL HAVE TIME TO EVACUAT… https://t.co/5AnaYguVaG\n",
      "906266219304685568 ***THIS IS AS REAL AS IT GETS*** ***NOWHERE IN THE FLORIDA KEYS WILL BE SAFE*** ***YOU STILL HAVE TIME TO EVACUAT… https://t.co/5AnaYguVaG\n",
      "\n",
      "\n",
      "906875281474035712 Hurricane Irma: Florida police urge residents not to fire their guns at vicious storm. https://t.co/1W9GTUZC4g https://t.co/kp48l4RnLM\n",
      "906875281474035712 Hurricane Irma: Florida police urge residents not to fire their guns at vicious storm. https://t.co/1W9GTUZC4g https://t.co/kp48l4RnLM\n",
      "\n",
      "\n",
      "905456281884004354 im alabama and irma is a mental breakdown https://t.co/2HSNLAy8xS\n",
      "905456281884004354 im alabama and irma is a mental breakdown https://t.co/2HSNLAy8xS\n",
      "\n",
      "\n",
      "905891669475811328 Hurricane Andrew (1992, inset) &amp; Hurricane Irma (today), at scale. https://t.co/0eaOdWFVx5 https://t.co/yhIlAKNCpL\n",
      "905891669475811328 Hurricane Andrew (1992, inset) &amp; Hurricane Irma (today), at scale. https://t.co/0eaOdWFVx5 https://t.co/yhIlAKNCpL\n",
      "\n",
      "\n",
      "906187274915799040 A collage of leftists wishing death and harm upon Florida Trump supporters as Hurricane #IRMA prepares to hit landf… https://t.co/vEtzbo1oj4\n",
      "906187274915799040 A collage of leftists wishing death and harm upon Florida Trump supporters as Hurricane #IRMA prepares to hit landf… https://t.co/vEtzbo1oj4\n",
      "\n",
      "\n",
      "906266219304685568 ***THIS IS AS REAL AS IT GETS*** ***NOWHERE IN THE FLORIDA KEYS WILL BE SAFE*** ***YOU STILL HAVE TIME TO EVACUAT… https://t.co/5AnaYguVaG\n",
      "906266219304685568 ***THIS IS AS REAL AS IT GETS*** ***NOWHERE IN THE FLORIDA KEYS WILL BE SAFE*** ***YOU STILL HAVE TIME TO EVACUAT… https://t.co/5AnaYguVaG\n",
      "\n",
      "\n",
      "906514554997407744 As Hurricane Irma approaches, remember that Mother Nature never intended us to live in Florida.… https://t.co/4GXk9aGxoh\n",
      "906514554997407744 As Hurricane Irma approaches, remember that Mother Nature never intended us to live in Florida.… https://t.co/4GXk9aGxoh\n",
      "\n",
      "\n",
      "906512742416351232 Florida Governor Scott: \"The storm is here... Hurricane Irma is now impacting our state.\" Nearly 25,000 people have… https://t.co/LAQVdoDITK\n",
      "906512742416351232 Florida Governor Scott: \"The storm is here... Hurricane Irma is now impacting our state.\" Nearly 25,000 people have… https://t.co/LAQVdoDITK\n",
      "\n",
      "\n",
      "906598650213797888 Tesla remotely extends range of vehicles for free in Florida to help owners escape Hurricane Irma… https://t.co/gaalZpsiUc\n",
      "906598650213797888 Tesla remotely extends range of vehicles for free in Florida to help owners escape Hurricane Irma… https://t.co/gaalZpsiUc\n",
      "\n",
      "\n",
      "905485042402684930 Hurricane Irma Pet-Friendly Shelters https://t.co/K264MTokJp\n",
      "905485042402684930 Hurricane Irma Pet-Friendly Shelters https://t.co/K264MTokJp\n",
      "\n",
      "\n",
      "906856299723456512 Florida sheriff to residents: Don't shoot at Hurricane Irma https://t.co/dDss2bWA2E https://t.co/j6orSXXxy5\n",
      "906856299723456512 Florida sheriff to residents: Don't shoot at Hurricane Irma https://t.co/dDss2bWA2E https://t.co/j6orSXXxy5\n",
      "\n",
      "\n",
      "906245466253348864 Rush Limbaugh evacuated his Florida home after floating unfounded theories about media coverage of Hurricane #Irma… https://t.co/T5Jt6wgX1H\n",
      "906245466253348864 Rush Limbaugh evacuated his Florida home after floating unfounded theories about media coverage of Hurricane #Irma… https://t.co/T5Jt6wgX1H\n",
      "\n",
      "\n",
      "905065297404715008 Hurricane Irma strengthened to a category 5 storm with winds up to 175 mph. https://t.co/YbpIjhCCqk\n",
      "905065297404715008 Hurricane Irma strengthened to a category 5 storm with winds up to 175 mph. https://t.co/YbpIjhCCqk\n",
      "\n",
      "\n",
      "906876954892226561 WATCH: A storm chaser battles Hurricane Irma's powerful winds. https://t.co/X5T16VcIup\n",
      "906876954892226561 WATCH: A storm chaser battles Hurricane Irma's powerful winds. https://t.co/X5T16VcIup\n",
      "\n",
      "\n",
      "907201917486596096 RT @mmfa: After claiming Hurricane Irma was a liberal hoax, Rush Limbaugh evacuates South Florida https://t.co/NVvceqZWwx\n",
      "907201917486596096 RT @mmfa: After claiming Hurricane Irma was a liberal hoax, Rush Limbaugh evacuates South Florida https://t.co/NVvceqZWwx\n",
      "\n",
      "\n",
      "906701768159002624 Florida Republican complains that hurricane relief is \"generational theft.\" Seriously. https://t.co/zNkMuhoKAQ by… https://t.co/pdcj1jsB16\n",
      "906701768159002624 Florida Republican complains that hurricane relief is \"generational theft.\" Seriously. https://t.co/zNkMuhoKAQ by… https://t.co/pdcj1jsB16\n",
      "\n",
      "\n",
      "906144438916931584 After telling listeners Irma was a liberal hoax, Limbaugh quietly evacuates South Florida https://t.co/JAtylJjmHF https://t.co/3XyhfiE577\n",
      "906144438916931584 After telling listeners Irma was a liberal hoax, Limbaugh quietly evacuates South Florida https://t.co/JAtylJjmHF https://t.co/3XyhfiE577\n",
      "\n",
      "\n",
      "905456281884004354 im alabama and irma is a mental breakdown https://t.co/2HSNLAy8xS\n",
      "905456281884004354 im alabama and irma is a mental breakdown https://t.co/2HSNLAy8xS\n",
      "\n",
      "\n"
     ]
    }
   ],
   "source": [
    "for c in sorted(C1, key=lambda x: sum(x), reverse=True)[:20]:\n",
    "    for d in documents[np.argwhere(c > 0)][:20][0][0]:\n",
    "        print(d.tweet_id, ' '.join(d.text.split()))\n",
    "    print()\n",
    "    print()"
   ]
  },
  {
   "cell_type": "code",
   "execution_count": 24,
   "metadata": {},
   "outputs": [
    {
     "data": {
      "text/plain": [
       "array([ 1.,  1.,  1., ...,  1.,  0.,  0.])"
      ]
     },
     "execution_count": 24,
     "metadata": {},
     "output_type": "execute_result"
    }
   ],
   "source": [
    "C1[0]"
   ]
  },
  {
   "cell_type": "code",
   "execution_count": null,
   "metadata": {
    "collapsed": true
   },
   "outputs": [],
   "source": []
  }
 ],
 "metadata": {
  "kernelspec": {
   "display_name": "Python 3",
   "language": "python",
   "name": "python3"
  },
  "language_info": {
   "codemirror_mode": {
    "name": "ipython",
    "version": 3
   },
   "file_extension": ".py",
   "mimetype": "text/x-python",
   "name": "python",
   "nbconvert_exporter": "python",
   "pygments_lexer": "ipython3",
   "version": "3.6.2"
  }
 },
 "nbformat": 4,
 "nbformat_minor": 2
}
