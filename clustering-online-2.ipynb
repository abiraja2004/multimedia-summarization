{
 "cells": [
  {
   "cell_type": "code",
   "execution_count": 26,
   "metadata": {},
   "outputs": [
    {
     "name": "stderr",
     "output_type": "stream",
     "text": [
      "2017-11-15 16:17:12,364 | root | INFO : loading documents from DB\n",
      "2017-11-15 16:17:12,551 | root | INFO : loading data from data/fasttext_vectors_event_libya_hotel.npy\n",
      "2017-11-15 16:17:12,570 | root | INFO : done loading documents\n"
     ]
    }
   ],
   "source": [
    "import sys\n",
    "sys.path.append('/home/mquezada/phd/multimedia-summarization/')\n",
    "\n",
    "import numpy as np\n",
    "from scipy.sparse import lil_matrix\n",
    "from tqdm import trange\n",
    "import json\n",
    "from docopt import docopt\n",
    "from sklearn.cluster import AgglomerativeClustering, KMeans\n",
    "from sqlalchemy.orm import sessionmaker\n",
    "\n",
    "from clustering.clustering_online import OnlineClustering\n",
    "from db.engines import engine_of215 as engine\n",
    "from db.models_new import EventGroup, Cluster, DocumentCluster\n",
    "from document_generation.documents import get_representatives\n",
    "from document_representation.get_vectors import *\n",
    "from nlp.filter_tweets import filter_tweets\n",
    "from document_representation import discourse_vectors\n",
    "from document_representation import generate_vectors_fasttext\n",
    "import summaries_local\n",
    "\n",
    "\n",
    "logger = logging.getLogger(__name__)\n",
    "logging.basicConfig(format='%(asctime)s | %(name)s | %(levelname)s : %(message)s', level=logging.INFO)\n",
    "\n",
    "Session = sessionmaker(engine, autocommit=True)\n",
    "session = Session()\n",
    "\n",
    "event_name = 'libya_hotel'\n",
    "\n",
    "from db.events import get_documents_from_event2\n",
    "d = get_documents_from_event2(event_name, session)\n",
    "\n",
    "\n",
    "tau = 0.99\n",
    "a = 0.001\n",
    "docs, doc_objs = get_fasttext_vectors(event_name, session)"
   ]
  },
  {
   "cell_type": "code",
   "execution_count": 27,
   "metadata": {},
   "outputs": [
    {
     "name": "stderr",
     "output_type": "stream",
     "text": [
      "  0%|          | 0/2857 [00:00<?, ?it/s]/home/mquezada/anaconda3/envs/ams/lib/python3.6/site-packages/ipykernel_launcher.py:25: RuntimeWarning: divide by zero encountered in true_divide\n",
      "100%|██████████| 2857/2857 [00:05<00:00, 494.48it/s]\n"
     ]
    }
   ],
   "source": [
    "n = docs.shape[0]\n",
    "\n",
    "d = docs @ docs.T\n",
    "# docs * docs es element-wise product\n",
    "norm = np.sqrt((docs * docs).sum(1, keepdims=True))\n",
    "\n",
    "# cos(vi, vj) = ((vi * vj) / ||vi||) / ||vj||\n",
    "s = (d / norm) / norm.T\n",
    "np.fill_diagonal(s, tau)\n",
    "\n",
    "del d\n",
    "del norm\n",
    "\n",
    "one = np.ones((n, 1), dtype='bool')\n",
    "i = 0\n",
    "\n",
    "c = lil_matrix((n, n), dtype='bool')\n",
    "c[0, 0] = True\n",
    "\n",
    "for j in trange(1, n):\n",
    "    # elem j belongs to cluster i + 1\n",
    "    c[i + 1, j] = 1\n",
    "\n",
    "    # t := 1 / (# of elems in each cluster)\n",
    "    t = 1 / c.dot(one)\n",
    "\n",
    "    # inf values removed\n",
    "    t[t > 1] = 0\n",
    "\n",
    "    # sum of similarities of elem j to elems in each cluster\n",
    "    v = c.dot(s[:, j])\n",
    "\n",
    "    v = v * t.T\n",
    "\n",
    "    v[v < tau] = 0\n",
    "\n",
    "    k = np.argmax(v)\n",
    "\n",
    "    c[i + 1, j] = 0\n",
    "    c[k, j] = 1\n",
    "    i += 1\n",
    "\n",
    "labels_ = np.zeros(n, dtype=np.uint32)\n",
    "c = c.tocoo()\n",
    "\n",
    "for i, j, _ in zip(c.row, c.col, c.data):\n",
    "    labels_[j] = i\n",
    "\n",
    "n_clusters = int(max(labels_)) + 1"
   ]
  },
  {
   "cell_type": "code",
   "execution_count": 36,
   "metadata": {},
   "outputs": [
    {
     "data": {
      "text/plain": [
       "0.97720288359336083"
      ]
     },
     "execution_count": 36,
     "metadata": {},
     "output_type": "execute_result"
    }
   ],
   "source": [
    "v1, v2 = 10, 20\n",
    "\n",
    "docs[v1].dot(docs[v2]) / (np.sqrt(sum(docs[v1] ** 2)) * np.sqrt(sum(docs[v2] ** 2)))"
   ]
  },
  {
   "cell_type": "code",
   "execution_count": 15,
   "metadata": {},
   "outputs": [
    {
     "data": {
      "text/plain": [
       "1.896994420428693"
      ]
     },
     "execution_count": 15,
     "metadata": {},
     "output_type": "execute_result"
    }
   ],
   "source": [
    "np.sqrt(sum(docs[0] ** 2))"
   ]
  },
  {
   "cell_type": "code",
   "execution_count": 29,
   "metadata": {},
   "outputs": [
    {
     "data": {
      "text/plain": [
       "3"
      ]
     },
     "execution_count": 29,
     "metadata": {},
     "output_type": "execute_result"
    }
   ],
   "source": [
    "n_clusters"
   ]
  },
  {
   "cell_type": "code",
   "execution_count": null,
   "metadata": {
    "collapsed": true
   },
   "outputs": [],
   "source": []
  }
 ],
 "metadata": {
  "kernelspec": {
   "display_name": "Python 3",
   "language": "python",
   "name": "python3"
  },
  "language_info": {
   "codemirror_mode": {
    "name": "ipython",
    "version": 3
   },
   "file_extension": ".py",
   "mimetype": "text/x-python",
   "name": "python",
   "nbconvert_exporter": "python",
   "pygments_lexer": "ipython3",
   "version": "3.6.2"
  }
 },
 "nbformat": 4,
 "nbformat_minor": 2
}
