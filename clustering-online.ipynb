{
 "cells": [
  {
   "cell_type": "markdown",
   "metadata": {},
   "source": [
    "# Notación\n",
    "\n",
    "- $n$ documentos: vectores de dimensión $D$, numerados del $0$ al $n-1$\n",
    "- matriz de similitud de documentos $S$ de dimensión $n*n$\n",
    "- matriz de clusters $C$ de dimensión $1*(n+1)$ (1 fila, $n+1$ columnas)\n",
    "    - $C_{i,j} = 1$ ssi documento $j$ pertenece a cluster $i$\n",
    "    - Inicialmente un solo cluster\n",
    "- Umbral de similitud $\\tau > 0$\n",
    "- $\\text{ones}_{a, b}$ es una matriz con 1's de dimensión $a*b$\n",
    "- $A_{\\cdot, j}$ es la columna $j$-ésima de $A$\n",
    "- $A_{i, \\cdot}$ es la fila $i$-ésima de $A$\n",
    "- $A_{i,j}$ es el valor en la posición $i,j$ de $A$\n",
    "\n",
    "Inicialmente:\n",
    "\n",
    "- $S_{i,i} \\leftarrow \\tau$, para $i = 0,..,n-1$ (la diagonal de $S$ tiene el umbral de similitud)\n",
    "- Agregar una nueva fila y columna a $S$ con $\\tau$ como valor: $S_{n,\\cdot} \\leftarrow \\tau$, y $S_{\\cdot,n} \\leftarrow \\tau$\n",
    "- $C_{0,0} \\leftarrow 1$ (documento 0 está en el cluster 0)\n",
    "- $C_{0, n} \\leftarrow 1$ (documento $n$-ésimo está en el cluster 0)\n",
    "\n",
    "\n",
    "# Online clustering\n",
    "\n",
    "- $i \\leftarrow 0$\n",
    "- para $j = 1,..,n-1$\n",
    "    - Agregar una fila a $C$ (fila $i+1$)\n",
    "    - $C_{(i+1), n} \\leftarrow 1$\n",
    "    - $T \\leftarrow \\frac{1}{C \\cdot \\text{ones}_{(i+1), 1}}$ (elemento $k$ del vector $T$ tiene a (tamaño del cluster $k$)$^{-1}$)\n",
    "    - computar $v \\leftarrow C \\cdot S_{\\cdot, j} \\cdot T$\n",
    "    - eliminar elementos de $v$ cuyo valor sea $\\leq \\tau$\n",
    "    - $i^* \\leftarrow \\text{argmax}(v)$\n",
    "    - $C_{i^*, j} \\leftarrow 1$\n",
    "    - $i \\leftarrow i + 1$\n",
    "    \n",
    "Clusters están dados por $C$, sin contar la última columna $n$"
   ]
  },
  {
   "cell_type": "markdown",
   "metadata": {},
   "source": [
    "# Experimento\n",
    "## Preparar datos"
   ]
  },
  {
   "cell_type": "code",
   "execution_count": 313,
   "metadata": {
    "collapsed": true
   },
   "outputs": [],
   "source": [
    "from theano import tensor\n",
    "from theano import function\n",
    "import numpy as np\n",
    "\n",
    "from tqdm import tqdm, trange\n",
    "\n",
    "tau = .7"
   ]
  },
  {
   "cell_type": "markdown",
   "metadata": {},
   "source": [
    "Load vectors and remove rows with NAs"
   ]
  },
  {
   "cell_type": "code",
   "execution_count": 298,
   "metadata": {},
   "outputs": [
    {
     "data": {
      "text/plain": [
       "(10746, 100)"
      ]
     },
     "execution_count": 298,
     "metadata": {},
     "output_type": "execute_result"
    }
   ],
   "source": [
    "documents = np.load('data/fasttext_vectors_event_hurricane_irma.npy')\n",
    "documents.shape"
   ]
  },
  {
   "cell_type": "code",
   "execution_count": 299,
   "metadata": {},
   "outputs": [
    {
     "data": {
      "text/plain": [
       "(10731, 100)"
      ]
     },
     "execution_count": 299,
     "metadata": {},
     "output_type": "execute_result"
    }
   ],
   "source": [
    "# all indices\n",
    "idx = range(len(documents))\n",
    "# indices de doc_vectors con NA (son como 15 no más :P)\n",
    "remove_idx = np.where(np.isnan(documents).any(axis=1))[0]\n",
    "\n",
    "docs = np.array([documents[i] for i in idx if i not in remove_idx])\n",
    "n = docs.shape[0]\n",
    "docs.shape"
   ]
  },
  {
   "cell_type": "markdown",
   "metadata": {},
   "source": [
    "Compute similarity matrix and assign diagonal and new row/column"
   ]
  },
  {
   "cell_type": "code",
   "execution_count": 300,
   "metadata": {},
   "outputs": [
    {
     "data": {
      "text/plain": [
       "(10731, 10731)"
      ]
     },
     "execution_count": 300,
     "metadata": {},
     "output_type": "execute_result"
    }
   ],
   "source": [
    "d = docs @ docs.T\n",
    "norm = (docs * docs).sum(1, keepdims=True) ** .5\n",
    "S = d / norm / norm.T\n",
    "S.shape"
   ]
  },
  {
   "cell_type": "code",
   "execution_count": 301,
   "metadata": {},
   "outputs": [],
   "source": [
    "assert np.allclose(S.diagonal(), 1)"
   ]
  },
  {
   "cell_type": "code",
   "execution_count": 302,
   "metadata": {},
   "outputs": [],
   "source": [
    "np.fill_diagonal(S, tau)\n",
    "assert np.allclose(S.diagonal(), tau)"
   ]
  },
  {
   "cell_type": "markdown",
   "metadata": {},
   "source": [
    "## Online clustering"
   ]
  },
  {
   "cell_type": "code",
   "execution_count": 305,
   "metadata": {},
   "outputs": [
    {
     "name": "stderr",
     "output_type": "stream",
     "text": [
      "  0%|          | 0/10730 [00:00<?, ?it/s]/home/mquezada/anaconda3/envs/ams/lib/python3.6/site-packages/ipykernel_launcher.py:30: RuntimeWarning: divide by zero encountered in true_divide\n",
      "100%|██████████| 10730/10730 [08:09<00:00, 11.95it/s]\n"
     ]
    }
   ],
   "source": [
    "ONE = np.ones((n, 1))\n",
    "i = 0\n",
    "\n",
    "C = np.zeros((n, n))\n",
    "C[0, 0] = 1\n",
    "#C[0, n] = 1\n",
    "\n",
    "with tf.Session() as sess:\n",
    "    for j in trange(1, n):\n",
    "        C[i + 1, j] = 1\n",
    "        \n",
    "        T = 1 / C.dot(ONE)\n",
    "        T[T > 1] = 0\n",
    "\n",
    "        v = C @ S[:, j]\n",
    "\n",
    "        v = v * T.T\n",
    "\n",
    "        v[v < tau] = 0\n",
    "\n",
    "        k = np.argmax(v)\n",
    "\n",
    "        C[i + 1, j] = 0\n",
    "        C[k, j] = 1\n",
    "        i += 1"
   ]
  },
  {
   "cell_type": "code",
   "execution_count": 309,
   "metadata": {},
   "outputs": [
    {
     "data": {
      "text/plain": [
       "(71, 10731)"
      ]
     },
     "execution_count": 309,
     "metadata": {},
     "output_type": "execute_result"
    }
   ],
   "source": [
    "C1 = C[~np.all(C == 0, axis=1)]\n",
    "C1.shape"
   ]
  },
  {
   "cell_type": "code",
   "execution_count": 310,
   "metadata": {},
   "outputs": [
    {
     "data": {
      "text/plain": [
       "array([[ 1.,  1.,  1., ...,  1.,  0.,  0.],\n",
       "       [ 0.,  0.,  0., ...,  0.,  0.,  0.],\n",
       "       [ 0.,  0.,  0., ...,  0.,  0.,  0.],\n",
       "       ..., \n",
       "       [ 0.,  0.,  0., ...,  0.,  0.,  0.],\n",
       "       [ 0.,  0.,  0., ...,  0.,  0.,  0.],\n",
       "       [ 0.,  0.,  0., ...,  0.,  0.,  0.]])"
      ]
     },
     "execution_count": 310,
     "metadata": {},
     "output_type": "execute_result"
    }
   ],
   "source": [
    "C1"
   ]
  },
  {
   "cell_type": "code",
   "execution_count": 311,
   "metadata": {},
   "outputs": [
    {
     "data": {
      "text/plain": [
       "(10731, 1)"
      ]
     },
     "execution_count": 311,
     "metadata": {},
     "output_type": "execute_result"
    }
   ],
   "source": [
    "T.shape"
   ]
  },
  {
   "cell_type": "code",
   "execution_count": null,
   "metadata": {
    "collapsed": true
   },
   "outputs": [],
   "source": []
  }
 ],
 "metadata": {
  "kernelspec": {
   "display_name": "Python 3",
   "language": "python",
   "name": "python3"
  },
  "language_info": {
   "codemirror_mode": {
    "name": "ipython",
    "version": 3
   },
   "file_extension": ".py",
   "mimetype": "text/x-python",
   "name": "python",
   "nbconvert_exporter": "python",
   "pygments_lexer": "ipython3",
   "version": "3.6.2"
  }
 },
 "nbformat": 4,
 "nbformat_minor": 2
}
